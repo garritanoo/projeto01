{
  "cells": [
    {
      "cell_type": "markdown",
      "metadata": {
        "id": "NsF-rAP4JFmL"
      },
      "source": [
        "# **Projeto 1**\n",
        "\n",
        "- **Fonte:** [Blog da Comunidade DS](https://www.comunidadeds.com/projeto01-blog)\n",
        "---\n",
        "\n"
      ]
    },
    {
      "cell_type": "markdown",
      "metadata": {
        "id": "nZDRqoagMZhL"
      },
      "source": [
        "# Problema de Negócio"
      ]
    },
    {
      "cell_type": "markdown",
      "metadata": {
        "id": "vj6iE4kZMbYh"
      },
      "source": [
        "Uma companhia área gostaria de realizar um campanha de marketing para aumentar o número de passageiros que participam do programa de fidelidade da empresa.\n",
        "\n",
        "O programa de fidelidade da empresa oferece 3 tipos de benefícios, de acordo com o uso e o engajamento do passageiro com a empresa, ao longo do tempo. Esses níveis de prêmios são representados pelos tipos de cartões de fidelidade.\n",
        "\n",
        "O programa de fidelidade possui 3 cartões de participação: Star, Nova e Aurora. Cada cartão possui níveis de benefícios e prêmios, sendo o Star com menos e o Aurora com mais prêmios.\n",
        "\n",
        "O time de marketing forneceu uma base de novos clientes para o time comercial entrar em contato e fazer a oferta da assinatura do programa de fidelidade. Porém, não há vendedores suficientes no time comercial para abordar todos os clientes, obrigando o time alcançarem altas taxas de compra da assinatura, para baterem a meta.\n",
        "\n",
        "Para alcançar a meta o time comercial precisa entrar em contato com o cliente, sabendo qual a probabilidade dele assinar o cartão Star, Nova ou Aurora. Assim, o vendedor consegue oferecer o cartão de maior probabilidade, diminuindo o tempo da venda e aumentando a receita, através da oferta do cartão mais adequado para o perfil de uso de cada cliente.\n",
        "\n",
        "Você foi contratado como Cientista de Dados para determinar qual a\n",
        "probabilidade de cada cliente assinar cada um dos 3 cartões do programa de fidelidade. Por exemplo, o cliente A tem  probabilidade de 70% de assinar o cartão Star, 20% de assinar o cartão Nova e 10% de assinar o cartão Aurora.\n",
        "\n",
        "Como essa informação em mãos, o vendedor pode oferecer para o cliente A, o cartão Star, diretamente."
      ]
    },
    {
      "cell_type": "markdown",
      "metadata": {
        "id": "MF0LZC_IMUDj"
      },
      "source": [
        "# 0.0 Imports das bibliotecas"
      ]
    },
    {
      "cell_type": "code",
      "execution_count": 1,
      "metadata": {
        "colab": {
          "base_uri": "https://localhost:8080/"
        },
        "id": "3w8stQ6tL9so",
        "outputId": "1afb1cd0-14f4-4ef7-993a-7b006e647856"
      },
      "outputs": [
        {
          "name": "stderr",
          "output_type": "stream",
          "text": [
            "c:\\Users\\garri\\anaconda3\\envs\\projeto01\\Lib\\site-packages\\tqdm\\auto.py:21: TqdmWarning: IProgress not found. Please update jupyter and ipywidgets. See https://ipywidgets.readthedocs.io/en/stable/user_install.html\n",
            "  from .autonotebook import tqdm as notebook_tqdm\n"
          ]
        }
      ],
      "source": [
        "# abrindo a conexao com banco de dados\n",
        "import sqlite3\n",
        "import pandas as pd\n",
        "import numpy as np\n",
        "import gradio as gr\n",
        "import pickle\n",
        "\n",
        "from sklearn import tree as tr"
      ]
    },
    {
      "cell_type": "markdown",
      "metadata": {
        "id": "aBEwXvuQOlpE"
      },
      "source": [
        "# 1.0 Coletando de Dados"
      ]
    },
    {
      "cell_type": "code",
      "execution_count": 4,
      "metadata": {
        "id": "grc417c4Oe8n"
      },
      "outputs": [],
      "source": [
        "conn = sqlite3.connect( \"../datasets/db_raw/database.db\")"
      ]
    },
    {
      "cell_type": "code",
      "execution_count": null,
      "metadata": {
        "colab": {
          "base_uri": "https://localhost:8080/"
        },
        "id": "Bb4G4a-iGl1S",
        "outputId": "b4ad7fa7-ff79-418f-c137-1c49f7eb2af7"
      },
      "outputs": [
        {
          "name": "stdout",
          "output_type": "stream",
          "text": [
            "('flight_activity',)\n",
            "('flight_loyalty_history',)\n"
          ]
        }
      ],
      "source": [
        "# Recuperando o nome de todas as tabelas presentes no banco de dados \"database.db\"\n",
        "tabelas = conn.execute(\"SELECT NAME FROM sqlite_master WHERE TYPE = 'table' ORDER BY NAME\").fetchall()\n",
        "for tabela in tabelas:\n",
        "    print(tabela)"
      ]
    },
    {
      "cell_type": "markdown",
      "metadata": {
        "id": "K6U43lqxPA2C"
      },
      "source": [
        "## 1.1 Consultas Globais"
      ]
    },
    {
      "cell_type": "code",
      "execution_count": 5,
      "metadata": {
        "colab": {
          "base_uri": "https://localhost:8080/",
          "height": 255
        },
        "id": "JYJuA_ldOZmN",
        "outputId": "d80a0826-70ed-4a1d-cf01-fcd738463d36"
      },
      "outputs": [],
      "source": [
        "consulta_completa = \"\"\"\n",
        "SELECT *\n",
        "FROM flight_activity fa\n",
        "LEFT JOIN flight_loyalty_history flh ON (fa.loyalty_number = flh.loyalty_number)\n",
        "\n",
        "\"\"\"\n",
        "\n",
        "df_completo = pd.read_sql_query(consulta_completa, conn)"
      ]
    },
    {
      "cell_type": "code",
      "execution_count": null,
      "metadata": {
        "id": "gO73wCVkTRBr"
      },
      "outputs": [],
      "source": [
        "# consulta dos dados no banco de dados\n",
        "consulta_voos = \"\"\"\n",
        "SELECT\n",
        "    fa.loyalty_number,\n",
        "    fa.year AS ano,\n",
        "    fa.month AS mes,\n",
        "    fa.flights_booked AS voos_reservados\n",
        "FROM flight_activity fa\n",
        "WHERE\n",
        "    fa.flights_booked > 3\n",
        "\n",
        "\"\"\"\n",
        "df_voos = pd.read_sql_query( consulta_voos, conn )"
      ]
    },
    {
      "cell_type": "code",
      "execution_count": null,
      "metadata": {
        "colab": {
          "base_uri": "https://localhost:8080/",
          "height": 206
        },
        "id": "MIiOERX6ZIsT",
        "outputId": "c08a0878-36c3-4d24-a088-6a59703f288f"
      },
      "outputs": [
        {
          "data": {
            "application/vnd.google.colaboratory.intrinsic+json": {
              "type": "dataframe",
              "variable_name": "df_voos"
            },
            "text/html": [
              "\n",
              "  <div id=\"df-cf06e757-f893-4841-8665-d255d0c6a1e2\" class=\"colab-df-container\">\n",
              "    <div>\n",
              "<style scoped>\n",
              "    .dataframe tbody tr th:only-of-type {\n",
              "        vertical-align: middle;\n",
              "    }\n",
              "\n",
              "    .dataframe tbody tr th {\n",
              "        vertical-align: top;\n",
              "    }\n",
              "\n",
              "    .dataframe thead th {\n",
              "        text-align: right;\n",
              "    }\n",
              "</style>\n",
              "<table border=\"1\" class=\"dataframe\">\n",
              "  <thead>\n",
              "    <tr style=\"text-align: right;\">\n",
              "      <th></th>\n",
              "      <th>loyalty_number</th>\n",
              "      <th>ano</th>\n",
              "      <th>mes</th>\n",
              "      <th>voos_reservados</th>\n",
              "    </tr>\n",
              "  </thead>\n",
              "  <tbody>\n",
              "    <tr>\n",
              "      <th>0</th>\n",
              "      <td>100102</td>\n",
              "      <td>2017</td>\n",
              "      <td>1</td>\n",
              "      <td>10</td>\n",
              "    </tr>\n",
              "    <tr>\n",
              "      <th>1</th>\n",
              "      <td>100140</td>\n",
              "      <td>2017</td>\n",
              "      <td>1</td>\n",
              "      <td>6</td>\n",
              "    </tr>\n",
              "    <tr>\n",
              "      <th>2</th>\n",
              "      <td>100428</td>\n",
              "      <td>2017</td>\n",
              "      <td>1</td>\n",
              "      <td>6</td>\n",
              "    </tr>\n",
              "    <tr>\n",
              "      <th>3</th>\n",
              "      <td>863070</td>\n",
              "      <td>2017</td>\n",
              "      <td>9</td>\n",
              "      <td>8</td>\n",
              "    </tr>\n",
              "    <tr>\n",
              "      <th>4</th>\n",
              "      <td>100727</td>\n",
              "      <td>2017</td>\n",
              "      <td>1</td>\n",
              "      <td>11</td>\n",
              "    </tr>\n",
              "  </tbody>\n",
              "</table>\n",
              "</div>\n",
              "    <div class=\"colab-df-buttons\">\n",
              "\n",
              "  <div class=\"colab-df-container\">\n",
              "    <button class=\"colab-df-convert\" onclick=\"convertToInteractive('df-cf06e757-f893-4841-8665-d255d0c6a1e2')\"\n",
              "            title=\"Convert this dataframe to an interactive table.\"\n",
              "            style=\"display:none;\">\n",
              "\n",
              "  <svg xmlns=\"http://www.w3.org/2000/svg\" height=\"24px\" viewBox=\"0 -960 960 960\">\n",
              "    <path d=\"M120-120v-720h720v720H120Zm60-500h600v-160H180v160Zm220 220h160v-160H400v160Zm0 220h160v-160H400v160ZM180-400h160v-160H180v160Zm440 0h160v-160H620v160ZM180-180h160v-160H180v160Zm440 0h160v-160H620v160Z\"/>\n",
              "  </svg>\n",
              "    </button>\n",
              "\n",
              "  <style>\n",
              "    .colab-df-container {\n",
              "      display:flex;\n",
              "      gap: 12px;\n",
              "    }\n",
              "\n",
              "    .colab-df-convert {\n",
              "      background-color: #E8F0FE;\n",
              "      border: none;\n",
              "      border-radius: 50%;\n",
              "      cursor: pointer;\n",
              "      display: none;\n",
              "      fill: #1967D2;\n",
              "      height: 32px;\n",
              "      padding: 0 0 0 0;\n",
              "      width: 32px;\n",
              "    }\n",
              "\n",
              "    .colab-df-convert:hover {\n",
              "      background-color: #E2EBFA;\n",
              "      box-shadow: 0px 1px 2px rgba(60, 64, 67, 0.3), 0px 1px 3px 1px rgba(60, 64, 67, 0.15);\n",
              "      fill: #174EA6;\n",
              "    }\n",
              "\n",
              "    .colab-df-buttons div {\n",
              "      margin-bottom: 4px;\n",
              "    }\n",
              "\n",
              "    [theme=dark] .colab-df-convert {\n",
              "      background-color: #3B4455;\n",
              "      fill: #D2E3FC;\n",
              "    }\n",
              "\n",
              "    [theme=dark] .colab-df-convert:hover {\n",
              "      background-color: #434B5C;\n",
              "      box-shadow: 0px 1px 3px 1px rgba(0, 0, 0, 0.15);\n",
              "      filter: drop-shadow(0px 1px 2px rgba(0, 0, 0, 0.3));\n",
              "      fill: #FFFFFF;\n",
              "    }\n",
              "  </style>\n",
              "\n",
              "    <script>\n",
              "      const buttonEl =\n",
              "        document.querySelector('#df-cf06e757-f893-4841-8665-d255d0c6a1e2 button.colab-df-convert');\n",
              "      buttonEl.style.display =\n",
              "        google.colab.kernel.accessAllowed ? 'block' : 'none';\n",
              "\n",
              "      async function convertToInteractive(key) {\n",
              "        const element = document.querySelector('#df-cf06e757-f893-4841-8665-d255d0c6a1e2');\n",
              "        const dataTable =\n",
              "          await google.colab.kernel.invokeFunction('convertToInteractive',\n",
              "                                                    [key], {});\n",
              "        if (!dataTable) return;\n",
              "\n",
              "        const docLinkHtml = 'Like what you see? Visit the ' +\n",
              "          '<a target=\"_blank\" href=https://colab.research.google.com/notebooks/data_table.ipynb>data table notebook</a>'\n",
              "          + ' to learn more about interactive tables.';\n",
              "        element.innerHTML = '';\n",
              "        dataTable['output_type'] = 'display_data';\n",
              "        await google.colab.output.renderOutput(dataTable, element);\n",
              "        const docLink = document.createElement('div');\n",
              "        docLink.innerHTML = docLinkHtml;\n",
              "        element.appendChild(docLink);\n",
              "      }\n",
              "    </script>\n",
              "  </div>\n",
              "\n",
              "\n",
              "<div id=\"df-955db5e0-3e87-4104-a340-d7717d59487e\">\n",
              "  <button class=\"colab-df-quickchart\" onclick=\"quickchart('df-955db5e0-3e87-4104-a340-d7717d59487e')\"\n",
              "            title=\"Suggest charts\"\n",
              "            style=\"display:none;\">\n",
              "\n",
              "<svg xmlns=\"http://www.w3.org/2000/svg\" height=\"24px\"viewBox=\"0 0 24 24\"\n",
              "     width=\"24px\">\n",
              "    <g>\n",
              "        <path d=\"M19 3H5c-1.1 0-2 .9-2 2v14c0 1.1.9 2 2 2h14c1.1 0 2-.9 2-2V5c0-1.1-.9-2-2-2zM9 17H7v-7h2v7zm4 0h-2V7h2v10zm4 0h-2v-4h2v4z\"/>\n",
              "    </g>\n",
              "</svg>\n",
              "  </button>\n",
              "\n",
              "<style>\n",
              "  .colab-df-quickchart {\n",
              "      --bg-color: #E8F0FE;\n",
              "      --fill-color: #1967D2;\n",
              "      --hover-bg-color: #E2EBFA;\n",
              "      --hover-fill-color: #174EA6;\n",
              "      --disabled-fill-color: #AAA;\n",
              "      --disabled-bg-color: #DDD;\n",
              "  }\n",
              "\n",
              "  [theme=dark] .colab-df-quickchart {\n",
              "      --bg-color: #3B4455;\n",
              "      --fill-color: #D2E3FC;\n",
              "      --hover-bg-color: #434B5C;\n",
              "      --hover-fill-color: #FFFFFF;\n",
              "      --disabled-bg-color: #3B4455;\n",
              "      --disabled-fill-color: #666;\n",
              "  }\n",
              "\n",
              "  .colab-df-quickchart {\n",
              "    background-color: var(--bg-color);\n",
              "    border: none;\n",
              "    border-radius: 50%;\n",
              "    cursor: pointer;\n",
              "    display: none;\n",
              "    fill: var(--fill-color);\n",
              "    height: 32px;\n",
              "    padding: 0;\n",
              "    width: 32px;\n",
              "  }\n",
              "\n",
              "  .colab-df-quickchart:hover {\n",
              "    background-color: var(--hover-bg-color);\n",
              "    box-shadow: 0 1px 2px rgba(60, 64, 67, 0.3), 0 1px 3px 1px rgba(60, 64, 67, 0.15);\n",
              "    fill: var(--button-hover-fill-color);\n",
              "  }\n",
              "\n",
              "  .colab-df-quickchart-complete:disabled,\n",
              "  .colab-df-quickchart-complete:disabled:hover {\n",
              "    background-color: var(--disabled-bg-color);\n",
              "    fill: var(--disabled-fill-color);\n",
              "    box-shadow: none;\n",
              "  }\n",
              "\n",
              "  .colab-df-spinner {\n",
              "    border: 2px solid var(--fill-color);\n",
              "    border-color: transparent;\n",
              "    border-bottom-color: var(--fill-color);\n",
              "    animation:\n",
              "      spin 1s steps(1) infinite;\n",
              "  }\n",
              "\n",
              "  @keyframes spin {\n",
              "    0% {\n",
              "      border-color: transparent;\n",
              "      border-bottom-color: var(--fill-color);\n",
              "      border-left-color: var(--fill-color);\n",
              "    }\n",
              "    20% {\n",
              "      border-color: transparent;\n",
              "      border-left-color: var(--fill-color);\n",
              "      border-top-color: var(--fill-color);\n",
              "    }\n",
              "    30% {\n",
              "      border-color: transparent;\n",
              "      border-left-color: var(--fill-color);\n",
              "      border-top-color: var(--fill-color);\n",
              "      border-right-color: var(--fill-color);\n",
              "    }\n",
              "    40% {\n",
              "      border-color: transparent;\n",
              "      border-right-color: var(--fill-color);\n",
              "      border-top-color: var(--fill-color);\n",
              "    }\n",
              "    60% {\n",
              "      border-color: transparent;\n",
              "      border-right-color: var(--fill-color);\n",
              "    }\n",
              "    80% {\n",
              "      border-color: transparent;\n",
              "      border-right-color: var(--fill-color);\n",
              "      border-bottom-color: var(--fill-color);\n",
              "    }\n",
              "    90% {\n",
              "      border-color: transparent;\n",
              "      border-bottom-color: var(--fill-color);\n",
              "    }\n",
              "  }\n",
              "</style>\n",
              "\n",
              "  <script>\n",
              "    async function quickchart(key) {\n",
              "      const quickchartButtonEl =\n",
              "        document.querySelector('#' + key + ' button');\n",
              "      quickchartButtonEl.disabled = true;  // To prevent multiple clicks.\n",
              "      quickchartButtonEl.classList.add('colab-df-spinner');\n",
              "      try {\n",
              "        const charts = await google.colab.kernel.invokeFunction(\n",
              "            'suggestCharts', [key], {});\n",
              "      } catch (error) {\n",
              "        console.error('Error during call to suggestCharts:', error);\n",
              "      }\n",
              "      quickchartButtonEl.classList.remove('colab-df-spinner');\n",
              "      quickchartButtonEl.classList.add('colab-df-quickchart-complete');\n",
              "    }\n",
              "    (() => {\n",
              "      let quickchartButtonEl =\n",
              "        document.querySelector('#df-955db5e0-3e87-4104-a340-d7717d59487e button');\n",
              "      quickchartButtonEl.style.display =\n",
              "        google.colab.kernel.accessAllowed ? 'block' : 'none';\n",
              "    })();\n",
              "  </script>\n",
              "</div>\n",
              "\n",
              "    </div>\n",
              "  </div>\n"
            ],
            "text/plain": [
              "   loyalty_number   ano  mes  voos_reservados\n",
              "0          100102  2017    1               10\n",
              "1          100140  2017    1                6\n",
              "2          100428  2017    1                6\n",
              "3          863070  2017    9                8\n",
              "4          100727  2017    1               11"
            ]
          },
          "execution_count": 24,
          "metadata": {},
          "output_type": "execute_result"
        }
      ],
      "source": [
        "df_voos.head()"
      ]
    },
    {
      "cell_type": "markdown",
      "metadata": {
        "id": "qgfbShrzDX2o"
      },
      "source": [
        "# 2.0 Analise de Dados e Primeiros Insights"
      ]
    },
    {
      "cell_type": "code",
      "execution_count": 9,
      "metadata": {},
      "outputs": [
        {
          "data": {
            "text/html": [
              "<div>\n",
              "<style scoped>\n",
              "    .dataframe tbody tr th:only-of-type {\n",
              "        vertical-align: middle;\n",
              "    }\n",
              "\n",
              "    .dataframe tbody tr th {\n",
              "        vertical-align: top;\n",
              "    }\n",
              "\n",
              "    .dataframe thead th {\n",
              "        text-align: right;\n",
              "    }\n",
              "</style>\n",
              "<table border=\"1\" class=\"dataframe\">\n",
              "  <thead>\n",
              "    <tr style=\"text-align: right;\">\n",
              "      <th></th>\n",
              "      <th>loyalty_number</th>\n",
              "      <th>year</th>\n",
              "      <th>month</th>\n",
              "      <th>flights_booked</th>\n",
              "      <th>flights_with_companions</th>\n",
              "      <th>total_flights</th>\n",
              "      <th>distance</th>\n",
              "      <th>points_accumulated</th>\n",
              "      <th>points_redeemed</th>\n",
              "      <th>dollar_cost_points_redeemed</th>\n",
              "      <th>...</th>\n",
              "      <th>education</th>\n",
              "      <th>salary</th>\n",
              "      <th>marital_status</th>\n",
              "      <th>loyalty_card</th>\n",
              "      <th>clv</th>\n",
              "      <th>enrollment_type</th>\n",
              "      <th>enrollment_year</th>\n",
              "      <th>enrollment_month</th>\n",
              "      <th>cancellation_year</th>\n",
              "      <th>cancellation_month</th>\n",
              "    </tr>\n",
              "  </thead>\n",
              "  <tbody>\n",
              "    <tr>\n",
              "      <th>0</th>\n",
              "      <td>100018</td>\n",
              "      <td>2017</td>\n",
              "      <td>1</td>\n",
              "      <td>3</td>\n",
              "      <td>0</td>\n",
              "      <td>3</td>\n",
              "      <td>1521</td>\n",
              "      <td>152.0</td>\n",
              "      <td>0</td>\n",
              "      <td>0</td>\n",
              "      <td>...</td>\n",
              "      <td>Bachelor</td>\n",
              "      <td>92552.0</td>\n",
              "      <td>Married</td>\n",
              "      <td>Aurora</td>\n",
              "      <td>7919.20</td>\n",
              "      <td>Standard</td>\n",
              "      <td>2016</td>\n",
              "      <td>8</td>\n",
              "      <td>NaN</td>\n",
              "      <td>NaN</td>\n",
              "    </tr>\n",
              "    <tr>\n",
              "      <th>1</th>\n",
              "      <td>100102</td>\n",
              "      <td>2017</td>\n",
              "      <td>1</td>\n",
              "      <td>10</td>\n",
              "      <td>4</td>\n",
              "      <td>14</td>\n",
              "      <td>2030</td>\n",
              "      <td>203.0</td>\n",
              "      <td>0</td>\n",
              "      <td>0</td>\n",
              "      <td>...</td>\n",
              "      <td>College</td>\n",
              "      <td>NaN</td>\n",
              "      <td>Single</td>\n",
              "      <td>Nova</td>\n",
              "      <td>2887.74</td>\n",
              "      <td>Standard</td>\n",
              "      <td>2013</td>\n",
              "      <td>3</td>\n",
              "      <td>NaN</td>\n",
              "      <td>NaN</td>\n",
              "    </tr>\n",
              "    <tr>\n",
              "      <th>2</th>\n",
              "      <td>100140</td>\n",
              "      <td>2017</td>\n",
              "      <td>1</td>\n",
              "      <td>6</td>\n",
              "      <td>0</td>\n",
              "      <td>6</td>\n",
              "      <td>1200</td>\n",
              "      <td>120.0</td>\n",
              "      <td>0</td>\n",
              "      <td>0</td>\n",
              "      <td>...</td>\n",
              "      <td>College</td>\n",
              "      <td>NaN</td>\n",
              "      <td>Divorced</td>\n",
              "      <td>Nova</td>\n",
              "      <td>2838.07</td>\n",
              "      <td>Standard</td>\n",
              "      <td>2016</td>\n",
              "      <td>7</td>\n",
              "      <td>NaN</td>\n",
              "      <td>NaN</td>\n",
              "    </tr>\n",
              "    <tr>\n",
              "      <th>3</th>\n",
              "      <td>100214</td>\n",
              "      <td>2017</td>\n",
              "      <td>1</td>\n",
              "      <td>0</td>\n",
              "      <td>0</td>\n",
              "      <td>0</td>\n",
              "      <td>0</td>\n",
              "      <td>0.0</td>\n",
              "      <td>0</td>\n",
              "      <td>0</td>\n",
              "      <td>...</td>\n",
              "      <td>Bachelor</td>\n",
              "      <td>63253.0</td>\n",
              "      <td>Married</td>\n",
              "      <td>Star</td>\n",
              "      <td>4170.57</td>\n",
              "      <td>Standard</td>\n",
              "      <td>2015</td>\n",
              "      <td>8</td>\n",
              "      <td>NaN</td>\n",
              "      <td>NaN</td>\n",
              "    </tr>\n",
              "    <tr>\n",
              "      <th>4</th>\n",
              "      <td>100272</td>\n",
              "      <td>2017</td>\n",
              "      <td>1</td>\n",
              "      <td>0</td>\n",
              "      <td>0</td>\n",
              "      <td>0</td>\n",
              "      <td>0</td>\n",
              "      <td>0.0</td>\n",
              "      <td>0</td>\n",
              "      <td>0</td>\n",
              "      <td>...</td>\n",
              "      <td>Bachelor</td>\n",
              "      <td>91163.0</td>\n",
              "      <td>Divorced</td>\n",
              "      <td>Star</td>\n",
              "      <td>6622.05</td>\n",
              "      <td>Standard</td>\n",
              "      <td>2014</td>\n",
              "      <td>1</td>\n",
              "      <td>NaN</td>\n",
              "      <td>NaN</td>\n",
              "    </tr>\n",
              "  </tbody>\n",
              "</table>\n",
              "<p>5 rows × 26 columns</p>\n",
              "</div>"
            ],
            "text/plain": [
              "   loyalty_number  year  month  flights_booked  flights_with_companions  \\\n",
              "0          100018  2017      1               3                        0   \n",
              "1          100102  2017      1              10                        4   \n",
              "2          100140  2017      1               6                        0   \n",
              "3          100214  2017      1               0                        0   \n",
              "4          100272  2017      1               0                        0   \n",
              "\n",
              "   total_flights  distance  points_accumulated  points_redeemed  \\\n",
              "0              3      1521               152.0                0   \n",
              "1             14      2030               203.0                0   \n",
              "2              6      1200               120.0                0   \n",
              "3              0         0                 0.0                0   \n",
              "4              0         0                 0.0                0   \n",
              "\n",
              "   dollar_cost_points_redeemed  ...  education   salary marital_status  \\\n",
              "0                            0  ...   Bachelor  92552.0        Married   \n",
              "1                            0  ...    College      NaN         Single   \n",
              "2                            0  ...    College      NaN       Divorced   \n",
              "3                            0  ...   Bachelor  63253.0        Married   \n",
              "4                            0  ...   Bachelor  91163.0       Divorced   \n",
              "\n",
              "  loyalty_card      clv enrollment_type enrollment_year  enrollment_month  \\\n",
              "0       Aurora  7919.20        Standard            2016                 8   \n",
              "1         Nova  2887.74        Standard            2013                 3   \n",
              "2         Nova  2838.07        Standard            2016                 7   \n",
              "3         Star  4170.57        Standard            2015                 8   \n",
              "4         Star  6622.05        Standard            2014                 1   \n",
              "\n",
              "  cancellation_year cancellation_month  \n",
              "0               NaN                NaN  \n",
              "1               NaN                NaN  \n",
              "2               NaN                NaN  \n",
              "3               NaN                NaN  \n",
              "4               NaN                NaN  \n",
              "\n",
              "[5 rows x 26 columns]"
            ]
          },
          "execution_count": 9,
          "metadata": {},
          "output_type": "execute_result"
        }
      ],
      "source": [
        "# Coletando os dados do ggogle drive\n",
        "original_url = 'https://drive.google.com/file/d/1n3Zt2V4M4O6C1ASBUuZlVZdpKLZOEpSi/view?usp=sharing'\n",
        "file_id = original_url.split('/')[-2]\n",
        "download_url = 'https://drive.google.com/uc?id=' + file_id \n",
        "dados_completos = pd.read_pickle(download_url)\n",
        "dados_completos.head()\n"
      ]
    },
    {
      "cell_type": "markdown",
      "metadata": {
        "id": "NTw6j9p4Dgu-"
      },
      "source": [
        "## 2.1 Inspecionando Dados"
      ]
    },
    {
      "cell_type": "code",
      "execution_count": null,
      "metadata": {
        "colab": {
          "base_uri": "https://localhost:8080/"
        },
        "id": "7LL8bHZjDg_g",
        "outputId": "c7fdf8ea-7b21-449e-d6b0-462a09fb6a67"
      },
      "outputs": [
        {
          "name": "stdout",
          "output_type": "stream",
          "text": [
            "Quantidade de linhas: 405,624.00 e colunas 26 do dataframe\n"
          ]
        }
      ],
      "source": [
        "# Verifica o número de linhas de um dataframe\n",
        "print(f'Quantidade de linhas: {df_completo.shape[0]:,.2f} e colunas {df_completo.shape[1]} do dataframe')"
      ]
    },
    {
      "cell_type": "code",
      "execution_count": null,
      "metadata": {
        "colab": {
          "base_uri": "https://localhost:8080/"
        },
        "id": "O8IQyF1BW2cu",
        "outputId": "44a04325-1a52-4d66-f472-6270379a63bd"
      },
      "outputs": [
        {
          "name": "stdout",
          "output_type": "stream",
          "text": [
            "<class 'pandas.core.frame.DataFrame'>\n",
            "RangeIndex: 405624 entries, 0 to 405623\n",
            "Data columns (total 26 columns):\n",
            " #   Column                       Non-Null Count   Dtype  \n",
            "---  ------                       --------------   -----  \n",
            " 0   loyalty_number               405624 non-null  int64  \n",
            " 1   year                         405624 non-null  int64  \n",
            " 2   month                        405624 non-null  int64  \n",
            " 3   flights_booked               405624 non-null  int64  \n",
            " 4   flights_with_companions      405624 non-null  int64  \n",
            " 5   total_flights                405624 non-null  int64  \n",
            " 6   distance                     405624 non-null  int64  \n",
            " 7   points_accumulated           405624 non-null  float64\n",
            " 8   points_redeemed              405624 non-null  int64  \n",
            " 9   dollar_cost_points_redeemed  405624 non-null  int64  \n",
            " 10  loyalty_number               405624 non-null  int64  \n",
            " 11  country                      405624 non-null  object \n",
            " 12  province                     405624 non-null  object \n",
            " 13  city                         405624 non-null  object \n",
            " 14  postal_code                  405624 non-null  object \n",
            " 15  gender                       405624 non-null  object \n",
            " 16  education                    405624 non-null  object \n",
            " 17  salary                       302952 non-null  float64\n",
            " 18  marital_status               405624 non-null  object \n",
            " 19  loyalty_card                 405624 non-null  object \n",
            " 20  clv                          405624 non-null  float64\n",
            " 21  enrollment_type              405624 non-null  object \n",
            " 22  enrollment_year              405624 non-null  int64  \n",
            " 23  enrollment_month             405624 non-null  int64  \n",
            " 24  cancellation_year            50064 non-null   float64\n",
            " 25  cancellation_month           50064 non-null   float64\n",
            "dtypes: float64(5), int64(12), object(9)\n",
            "memory usage: 80.5+ MB\n"
          ]
        }
      ],
      "source": [
        "# Insights iniciais\n",
        "df_completo.info()"
      ]
    },
    {
      "cell_type": "code",
      "execution_count": null,
      "metadata": {
        "id": "RdKFGW77YGfU"
      },
      "outputs": [],
      "source": [
        "menor_distancia = df_completo.loc[:, 'distance'].min()\n",
        "maior_distancia = df_completo.loc[:, 'distance'].max()\n",
        "media_distancia = df_completo.loc[:, 'distance'].mean()\n",
        "soma_distancia = df_completo.loc[:, 'distance'].sum()"
      ]
    },
    {
      "cell_type": "code",
      "execution_count": null,
      "metadata": {
        "colab": {
          "base_uri": "https://localhost:8080/"
        },
        "id": "MUjuMfJ2YHhB",
        "outputId": "7bcce737-4e55-4ad0-de9c-6dca76275a64"
      },
      "outputs": [
        {
          "data": {
            "text/plain": [
              "loyalty_number                      0\n",
              "year                                0\n",
              "month                               0\n",
              "flights_booked                      0\n",
              "flights_with_companions             0\n",
              "total_flights                       0\n",
              "distance                            0\n",
              "points_accumulated                  0\n",
              "points_redeemed                     0\n",
              "dollar_cost_points_redeemed         0\n",
              "loyalty_number                      0\n",
              "country                             0\n",
              "province                            0\n",
              "city                                0\n",
              "postal_code                         0\n",
              "gender                              0\n",
              "education                           0\n",
              "salary                         102672\n",
              "marital_status                      0\n",
              "loyalty_card                        0\n",
              "clv                                 0\n",
              "enrollment_type                     0\n",
              "enrollment_year                     0\n",
              "enrollment_month                    0\n",
              "cancellation_year              355560\n",
              "cancellation_month             355560\n",
              "dtype: int64"
            ]
          },
          "execution_count": 36,
          "metadata": {},
          "output_type": "execute_result"
        }
      ],
      "source": [
        "df_completo.isna().sum()"
      ]
    },
    {
      "cell_type": "code",
      "execution_count": null,
      "metadata": {
        "id": "2UlCHUogrc7X"
      },
      "outputs": [],
      "source": [
        "# fecha a conexão com o banco de dados\n",
        "conn.close()"
      ]
    },
    {
      "cell_type": "markdown",
      "metadata": {
        "id": "DLu97AG7V3S-"
      },
      "source": [
        "## 2.2 Preparação dos Dados"
      ]
    },
    {
      "cell_type": "code",
      "execution_count": 4,
      "metadata": {
        "id": "5LEPZcFeWAPl"
      },
      "outputs": [],
      "source": [
        "df_limpo = df_completo.copy()"
      ]
    },
    {
      "cell_type": "code",
      "execution_count": 5,
      "metadata": {
        "colab": {
          "base_uri": "https://localhost:8080/"
        },
        "id": "AA2PHO_pbulJ",
        "outputId": "1d8587eb-c218-4340-acd3-018872eb89d9"
      },
      "outputs": [
        {
          "data": {
            "text/plain": [
              "year                       0\n",
              "month                      0\n",
              "flights_booked             0\n",
              "flights_with_companions    0\n",
              "total_flights              0\n",
              "distance                   0\n",
              "points_accumulated         0\n",
              "salary                     0\n",
              "clv                        0\n",
              "loyalty_card               0\n",
              "dtype: int64"
            ]
          },
          "execution_count": 5,
          "metadata": {},
          "output_type": "execute_result"
        }
      ],
      "source": [
        "# Número de dados faltantes em cada coluna\n",
        "df_limpo.isna().sum()\n",
        "\n",
        "# Selecionar somente as colunas que contem erros\n",
        "colunas = ['year', 'month', 'flights_booked', 'flights_with_companions', 'total_flights',\n",
        "                    'distance', 'points_accumulated', 'salary', 'clv', 'loyalty_card']\n",
        "\n",
        "df_colunas_numericas = df_limpo.loc[:, colunas]\n",
        "\n",
        "# Remover linhas que contem dados faltante\n",
        "df_treinamento = df_colunas_numericas.dropna()\n",
        "\n",
        "# Verificar se existe dados faltantes\n",
        "df_treinamento.isna().sum()"
      ]
    },
    {
      "cell_type": "code",
      "execution_count": null,
      "metadata": {
        "colab": {
          "base_uri": "https://localhost:8080/"
        },
        "id": "YiyptSlqWAbr",
        "outputId": "af6932b4-b32d-44b7-f83d-e697e40712e5"
      },
      "outputs": [
        {
          "data": {
            "text/plain": [
              "(302952, 10)"
            ]
          },
          "execution_count": 7,
          "metadata": {},
          "output_type": "execute_result"
        }
      ],
      "source": [
        "df_treinamento.shape"
      ]
    },
    {
      "cell_type": "markdown",
      "metadata": {
        "id": "F3-QVUs1WAeC"
      },
      "source": [
        "# 3.0 Treinamento do Algoritmo de Machine Learning"
      ]
    },
    {
      "cell_type": "code",
      "execution_count": 6,
      "metadata": {
        "id": "LA_vKsr7eXNX"
      },
      "outputs": [],
      "source": [
        "X_atributos = df_treinamento.drop(columns='loyalty_card')\n",
        "y_rotulos = df_treinamento.loc[:, 'loyalty_card']\n",
        "\n",
        "# Definição do algortimo\n",
        "modelo = tr.DecisionTreeClassifier(max_depth=5)\n",
        "\n",
        "# Treinamento do algoritmo\n",
        "modelo_treinado = modelo.fit(X_atributos, y_rotulos)"
      ]
    },
    {
      "cell_type": "code",
      "execution_count": 8,
      "metadata": {},
      "outputs": [],
      "source": [
        "import pickle\n",
        "pickle.dump(modelo_treinado, open('../datasets/modelo/modelo_treinando.pkl', 'wb'))"
      ]
    },
    {
      "cell_type": "code",
      "execution_count": null,
      "metadata": {
        "colab": {
          "base_uri": "https://localhost:8080/",
          "height": 406
        },
        "id": "8megqUT3eY-b",
        "outputId": "d6a3c3b3-7552-40e8-fc5f-da24bd40404f"
      },
      "outputs": [
        {
          "data": {
            "image/png": "[encoded data removed]",
            "text/plain": [
              "<Figure size 640x480 with 1 Axes>"
            ]
          },
          "metadata": {},
          "output_type": "display_data"
        }
      ],
      "source": [
        "tr.plot_tree(modelo_treinado, filled=True);"
      ]
    },
    {
      "cell_type": "markdown",
      "metadata": {
        "id": "icvYioqOhDK1"
      },
      "source": [
        "# 4.0 Apresentando resultado"
      ]
    },
    {
      "cell_type": "code",
      "execution_count": 8,
      "metadata": {
        "colab": {
          "base_uri": "https://localhost:8080/"
        },
        "id": "2UQO5za9hHLZ",
        "outputId": "e72cae1e-edc5-4da9-955d-c952d16f11af"
      },
      "outputs": [
        {
          "name": "stdout",
          "output_type": "stream",
          "text": [
            "Prob - Aurora: 33.93% - Nova: 33.35% - Start: 32.72%\n"
          ]
        }
      ],
      "source": [
        "X_novo = X_atributos.sample()\n",
        "previsao = modelo_treinado.predict_proba(X_novo)\n",
        "\n",
        "print(f'Prob - Aurora: { 100 * previsao[0][0]:.2f}% - Nova: { 100 * previsao[0][1]:.2f}% - Start: { 100 * previsao[0][2]:.2f}%')\n"
      ]
    },
    {
      "cell_type": "markdown",
      "metadata": {
        "id": "faTHVdW60ax8"
      },
      "source": [
        "# 5.0 Painel Web"
      ]
    },
    {
      "cell_type": "code",
      "execution_count": 10,
      "metadata": {
        "colab": {
          "base_uri": "https://localhost:8080/",
          "height": 633
        },
        "id": "5_YoEf66ncRP",
        "outputId": "4e27ccd7-4a57-44cd-b7df-733ea86e0eb4"
      },
      "outputs": [
        {
          "name": "stdout",
          "output_type": "stream",
          "text": [
            "Running on local URL:  http://127.0.0.1:7860\n",
            "\n",
            "To create a public link, set `share=True` in `launch()`.\n"
          ]
        },
        {
          "data": {
            "text/html": [
              "<div><iframe src=\"http://127.0.0.1:7860/\" width=\"100%\" height=\"500\" allow=\"autoplay; camera; microphone; clipboard-read; clipboard-write;\" frameborder=\"0\" allowfullscreen></iframe></div>"
            ],
            "text/plain": [
              "<IPython.core.display.HTML object>"
            ]
          },
          "metadata": {},
          "output_type": "display_data"
        },
        {
          "name": "stdout",
          "output_type": "stream",
          "text": [
            "Keyboard interruption in main thread... closing server.\n"
          ]
        },
        {
          "data": {
            "text/plain": []
          },
          "execution_count": 10,
          "metadata": {},
          "output_type": "execute_result"
        }
      ],
      "source": [
        "def predict(*args):\n",
        "    X = np.array([args]).reshape(1,-1)\n",
        "    y_pred = modelo_treinado.predict_proba(X)\n",
        "\n",
        "    return {\"Aurora\": y_pred[0][0], \"Nova\": y_pred[0][1], \"Start\": y_pred[0][2]}\n",
        "\n",
        "# theme = 'upsatwal/mlsc_tiet'\n",
        "with gr.Blocks() as demo:\n",
        "\n",
        "    # Titulo do painel\n",
        "    gr.Markdown( \"\"\"# Propensão de Compra\"\"\")\n",
        "\n",
        "    with gr.Row():\n",
        "        # Coluna 1\n",
        "        with gr.Column():\n",
        "            gr.Markdown(\"\"\" # Atributos do Cliente \"\"\")\n",
        "            year \t\t            = gr.Slider(label=\"year\", minimum=2017, maximum=2018,step=1, randomize=True)\n",
        "            month                   = gr.Slider(label=\"month\", minimum=1, maximum=12,step=1, randomize=True)\n",
        "            flights_booked          = gr.Slider(label=\"flights_booked\",minimum=0, maximum=21, step=1, randomize=True)\n",
        "            flights_with_companions = gr.Slider(label=\"flights_with_companions\", minimum=0,maximum=11, step=1, randomize=True)\n",
        "            total_flights           = gr.Slider(label=\"total_flights\", minimum=0, maximum=32,step=1, randomize=True)\n",
        "            distance                = gr.Slider(label=\"distance\", minimum=0, maximum=6293, step=1, randomize=True)\n",
        "            points_accumulated      = gr.Slider(label=\"points_accumulated\", minimum=0.00, maximum=676.50, step=0.1, randomize=True)\n",
        "            salary                  = gr.Slider(label=\"salary\", minimum=58486.00, maximum=407228.00, step=0.1, randomize=True)\n",
        "            clv                     = gr.Slider(label=\"clv\", minimum=2119.89, maximum=83325.38, step=0.1, randomize=True)\n",
        "\n",
        "            with gr.Row():\n",
        "                predict_btn = gr.Button(value=\"Previsão\")\n",
        "\n",
        "        # Coluna 2\n",
        "        with gr.Column():\n",
        "            gr.Markdown(\"\"\"# Propensão de Compra do Cliente\"\"\")\n",
        "            label = gr.Label()\n",
        "\n",
        "        # Botao de Predict\n",
        "        predict_btn.click(\n",
        "                fn=predict,\n",
        "                inputs=[\n",
        "                year,\n",
        "                month,\n",
        "                flights_booked,\n",
        "                flights_with_companions,\n",
        "                total_flights,\n",
        "                distance,\n",
        "                points_accumulated,\n",
        "                salary,\n",
        "                clv\n",
        "                ],\n",
        "                outputs=[label] )\n",
        "\n",
        "demo.launch(debug=True, share=False)"
      ]
    }
  ],
  "metadata": {
    "colab": {
      "collapsed_sections": [
        "vOeqFpnGDOvJ",
        "kcLffEfsrcTQ",
        "cQWeGzMxQESh",
        "UdI3qqeq0Kur",
        "qgfbShrzDX2o",
        "NTw6j9p4Dgu-",
        "weAB8sLqZY4g"
      ],
      "provenance": []
    },
    "kernelspec": {
      "display_name": "Python 3",
      "name": "python3"
    },
    "language_info": {
      "codemirror_mode": {
        "name": "ipython",
        "version": 3
      },
      "file_extension": ".py",
      "mimetype": "text/x-python",
      "name": "python",
      "nbconvert_exporter": "python",
      "pygments_lexer": "ipython3",
      "version": "3.11.8"
    }
  },
  "nbformat": 4,
  "nbformat_minor": 0
}
